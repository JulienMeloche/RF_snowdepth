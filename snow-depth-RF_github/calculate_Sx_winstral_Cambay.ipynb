{
 "cells": [
  {
   "cell_type": "code",
   "execution_count": 2,
   "metadata": {},
   "outputs": [],
   "source": [
    "import numpy as np\n",
    "import rasterio"
   ]
  },
  {
   "cell_type": "code",
   "execution_count": 3,
   "metadata": {},
   "outputs": [],
   "source": [
    "def winstral_fast(dem, cellsize, dmax, in_wind ):\n",
    "    '''\n",
    "    Function to derive Winstral Sx surface from a dem. \n",
    "    :param dem: numpy array of a DEM\n",
    "    :param cellsize: resolution of the DEM\n",
    "    :param dmax: maximum distance for winstral parameter estimate\n",
    "    :param in_wind: wind direction of incoming wind\n",
    "    :return: Winstral Sx index \n",
    "    '''\n",
    "    grid = np.zeros(dem.shape) * np.nan\n",
    "    # pad the input edges with np.nan\n",
    "    view_range = np.ceil(dmax / cellsize).astype(np.int32)\n",
    "    pad_shape = ((view_range, view_range),) * 2\n",
    "    dem_padded = np.pad(dem, pad_shape,'constant', constant_values=np.nan)\n",
    "    # define wind sectors in degrees\n",
    "    wind_inc = 5\n",
    "    wind_width = 30\n",
    "    wind1 = in_wind - wind_width / 2\n",
    "    wind2 = in_wind + wind_width / 2\n",
    "    winds = np.arange(in_wind - wind_width / 2, in_wind + wind_width / 2, wind_inc)\n",
    "    # The angles we check. Add last dimension so we can broadcast the direction\n",
    "    # samples.\n",
    "    alpha_rad = np.expand_dims(winds * np.pi / 180, -1)\n",
    "    # pre-compute the cell indices that are sampled for each direction\n",
    "    y_offsets = -np.round(np.arange(1, view_range) * np.cos(alpha_rad)).astype(np.int32)\n",
    "    x_offsets = np.round(np.arange(1, view_range) * np.sin(alpha_rad)).astype(np.int32)\n",
    "    # pre-compute the distances for each sampled cell\n",
    "    distances = np.sqrt(cellsize**2 * (x_offsets** 2 + y_offsets** 2))\n",
    "    # set distances that are too large to np.nan so they're not considered\n",
    "    distances[(distances == 0.) | (distances > dmax)] = np.nan\n",
    "    for y in range(view_range, view_range + dem.shape[0]):\n",
    "        for x in range(view_range, view_range + dem.shape[1]):\n",
    "            # compute the difference in altitude for all cells along all angles\n",
    "            altitude_diff = dem_padded[y + y_offsets, x + x_offsets] - dem_padded[y, x]\n",
    "            # directions are in the first dimension, cells in the last\n",
    "            slope = altitude_diff / distances\n",
    "            amax = np.nanmax(slope, -1)\n",
    "            amin = np.nanmin(slope, -1)\n",
    "            result = np.where(-amin > amax, amin, amax)\n",
    "            # maybe nanmean would be more correct, but we reproduce the\n",
    "            # exisiting implementation for now\n",
    "            result = np.nanmean(np.arctan(result))\n",
    "            #result = np.nansum(np.arctan(result)) / len(winds)\n",
    "            grid[y - view_range, x - view_range] = result\n",
    "    return grid"
   ]
  },
  {
   "cell_type": "code",
   "execution_count": 4,
   "metadata": {},
   "outputs": [],
   "source": [
    "file = 'path/toDEM/'\n",
    "dataset = rasterio.open(file)\n",
    "cellsize = dataset.transform[0]\n",
    "crs = dataset.crs\n",
    "transform = dataset.transform\n",
    "dem = dataset.read(1)\n",
    "dem[dem==-9999]=np.nan"
   ]
  },
  {
   "cell_type": "code",
   "execution_count": 10,
   "metadata": {},
   "outputs": [
    {
     "name": "stderr",
     "output_type": "stream",
     "text": [
      "<ipython-input-3-0a30a9c8668c>:37: RuntimeWarning: All-NaN slice encountered\n",
      "  amax = np.nanmax(slope, -1)\n",
      "<ipython-input-3-0a30a9c8668c>:38: RuntimeWarning: All-NaN slice encountered\n",
      "  amin = np.nanmin(slope, -1)\n",
      "<ipython-input-3-0a30a9c8668c>:39: RuntimeWarning: invalid value encountered in greater\n",
      "  result = np.where(-amin > amax, amin, amax)\n",
      "<ipython-input-3-0a30a9c8668c>:42: RuntimeWarning: Mean of empty slice\n",
      "  result = np.nanmean(np.arctan(result))\n"
     ]
    }
   ],
   "source": [
    "Sx = winstral_fast(dem, cellsize, 100, 135)"
   ]
  },
  {
   "cell_type": "code",
   "execution_count": 11,
   "metadata": {},
   "outputs": [],
   "source": [
    "with rasterio.open(\n",
    "    'path/toSxDEM',\n",
    "    'w',\n",
    "    driver='GTiff',\n",
    "    height=Sx.shape[0],\n",
    "    width=Sx.shape[1],\n",
    "    count=1,\n",
    "    dtype=Sx.dtype,\n",
    "    crs=crs,\n",
    "    transform=transform,\n",
    ") as dst:\n",
    "    dst.write(Sx, 1)"
   ]
  }
 ],
 "metadata": {
  "kernelspec": {
   "display_name": "Python [conda env:geo] *",
   "language": "python",
   "name": "conda-env-geo-py"
  },
  "language_info": {
   "codemirror_mode": {
    "name": "ipython",
    "version": 3
   },
   "file_extension": ".py",
   "mimetype": "text/x-python",
   "name": "python",
   "nbconvert_exporter": "python",
   "pygments_lexer": "ipython3",
   "version": "3.8.2"
  }
 },
 "nbformat": 4,
 "nbformat_minor": 4
}
